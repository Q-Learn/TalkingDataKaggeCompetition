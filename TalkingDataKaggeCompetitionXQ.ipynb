{
 "cells": [
  {
   "cell_type": "markdown",
   "metadata": {},
   "source": [
    "## TalkingData Mobile User Demographics (Kaggle Competition)\n",
    "1. Data preprocessing\n",
    "2. Benchmark models: random forest and naive bayes\n",
    "3. Hierarchical data of multiple levels\n",
    "4. XGBoost\n",
    "5. Keras"
   ]
  },
  {
   "cell_type": "code",
   "execution_count": 1,
   "metadata": {
    "collapsed": true
   },
   "outputs": [],
   "source": [
    "import time\n",
    "import random\n",
    "\n",
    "# numpy, scipy, and pandas\n",
    "import numpy as np\n",
    "import pandas as pd\n",
    "from scipy import sparse\n",
    "\n",
    "# scikit-learn for machine learning\n",
    "from sklearn import preprocessing, pipeline, metrics, grid_search, cross_validation\n",
    "from sklearn.preprocessing import LabelEncoder, OneHotEncoder\n",
    "from sklearn.metrics import log_loss\n",
    "from sklearn.cross_validation import train_test_split\n",
    "from sklearn.linear_model import LogisticRegression\n",
    "from sklearn.naive_bayes import MultinomialNB, GaussianNB\n",
    "from sklearn.ensemble import RandomForestClassifier"
   ]
  },
  {
   "cell_type": "markdown",
   "metadata": {},
   "source": [
    "#### Data Preprocessing"
   ]
  },
  {
   "cell_type": "code",
   "execution_count": 2,
   "metadata": {
    "collapsed": false
   },
   "outputs": [
    {
     "name": "stdout",
     "output_type": "stream",
     "text": [
      "# Load Data of Phone Brand and Device Model\n",
      "# Load Training Data\n",
      "# Load Testing Data\n",
      "# Data Loaded.\n",
      "<class 'pandas.core.frame.DataFrame'>\n",
      "Int64Index: 186716 entries, 56800 to 106263\n",
      "Data columns (total 6 columns):\n",
      "age             74645 non-null float64\n",
      "device_id       186716 non-null object\n",
      "gender          74645 non-null object\n",
      "group           74645 non-null object\n",
      "phone_brand     186716 non-null object\n",
      "device_model    186716 non-null object\n",
      "dtypes: float64(1), object(5)\n",
      "memory usage: 10.0+ MB\n"
     ]
    }
   ],
   "source": [
    "# load Data\n",
    "\n",
    "print(\"# Load Data of Phone Brand and Device Model\")\n",
    "phone_brand = pd.read_csv(\"../input/phone_brand_device_model.csv\", dtype={'device_id': np.str})\n",
    "phone_brand.drop_duplicates('device_id', keep='first', inplace=True)\n",
    "\n",
    "print(\"# Load Training Data\")\n",
    "train_data = pd.read_csv(\"../input/gender_age_train.csv\", dtype={'device_id': np.str})\n",
    "\n",
    "print(\"# Load Testing Data\")\n",
    "test_data = pd.read_csv(\"../input/gender_age_test.csv\", dtype={'device_id': np.str})\n",
    "\n",
    "full_data = pd.concat((train_data, test_data), axis=0, ignore_index=True)\n",
    "train_size = len(train_data)\n",
    "full_data = pd.merge(full_data, phone_brand, how='left', on='device_id', left_index=True)\n",
    "\n",
    "print (\"# Data Loaded.\")\n",
    "full_data.info()"
   ]
  },
  {
   "cell_type": "code",
   "execution_count": 3,
   "metadata": {
    "collapsed": false
   },
   "outputs": [
    {
     "name": "stdout",
     "output_type": "stream",
     "text": [
      "('target group names:', array(['F23-', 'F24-26', 'F27-28', 'F29-32', 'F33-42', 'F43+', 'M22-',\n",
      "       'M23-26', 'M27-28', 'M29-31', 'M32-38', 'M39+'], dtype=object))\n"
     ]
    }
   ],
   "source": [
    "# label/encode target   \n",
    "LBL = preprocessing.LabelEncoder()\n",
    "Y = LBL.fit_transform(full_data['group'][:train_size])\n",
    "target_names = LBL.classes_\n",
    "print (\"target group names:\", target_names)"
   ]
  },
  {
   "cell_type": "code",
   "execution_count": 4,
   "metadata": {
    "collapsed": false
   },
   "outputs": [
    {
     "name": "stdout",
     "output_type": "stream",
     "text": [
      "(186716, 1730) (186716, 2)\n"
     ]
    }
   ],
   "source": [
    "# one-hot-encoding\n",
    "full_ohe=pd.get_dummies(full_data[['phone_brand', 'device_model']], sparse=True)\n",
    "full_ohe=sparse.csr_matrix(full_ohe)\n",
    "\n",
    "# lable encoding\n",
    "full_le = pd.DataFrame()\n",
    "full_le['phone_brand']=LBL.fit_transform(full_data['phone_brand'])\n",
    "full_le['device_model']=LBL.fit_transform(full_data['device_model'])\n",
    "\n",
    "print full_ohe.shape, full_le.shape"
   ]
  },
  {
   "cell_type": "markdown",
   "metadata": {},
   "source": [
    "#### Benchmark models: random forest and naive bayes"
   ]
  },
  {
   "cell_type": "code",
   "execution_count": 5,
   "metadata": {
    "collapsed": false
   },
   "outputs": [
    {
     "name": "stdout",
     "output_type": "stream",
     "text": [
      "Fitting 4 folds for each of 1 candidates, totalling 4 fits\n",
      "[CV]  ................................................................\n",
      "[CV] ...................................... , score=-4.174543 -   6.3s\n",
      "[CV]  ................................................................\n"
     ]
    },
    {
     "name": "stderr",
     "output_type": "stream",
     "text": [
      "[Parallel(n_jobs=1)]: Done   1 tasks       | elapsed:    6.3s\n"
     ]
    },
    {
     "name": "stdout",
     "output_type": "stream",
     "text": [
      "[CV] ...................................... , score=-4.073983 -   3.7s\n",
      "[CV]  ................................................................\n",
      "[CV] ...................................... , score=-3.968685 -   3.8s\n",
      "[CV]  ................................................................\n",
      "[CV] ...................................... , score=-3.829474 -   3.7s\n",
      "('best params:', {})\n"
     ]
    },
    {
     "name": "stderr",
     "output_type": "stream",
     "text": [
      "[Parallel(n_jobs=1)]: Done   4 tasks       | elapsed:   17.6s\n",
      "[Parallel(n_jobs=1)]: Done   4 out of   4 | elapsed:   17.6s finished\n"
     ]
    }
   ],
   "source": [
    "# random forest with label encoding\n",
    "model = grid_search.GridSearchCV(RandomForestClassifier(n_estimators=100), \n",
    "                                 param_grid={}, \n",
    "                                 scoring='log_loss',\n",
    "                                 n_jobs=1,\n",
    "                                 iid=True,\n",
    "                                 cv=4, \n",
    "                                 refit=False,\n",
    "                                 verbose=10)   \n",
    "model.fit(full_le[:train_size], Y)\n",
    "print (\"best params:\", model.best_params_)"
   ]
  },
  {
   "cell_type": "code",
   "execution_count": 6,
   "metadata": {
    "collapsed": false
   },
   "outputs": [
    {
     "name": "stdout",
     "output_type": "stream",
     "text": [
      "Fitting 4 folds for each of 1 candidates, totalling 4 fits\n",
      "[CV]  ................................................................\n",
      "[CV] ...................................... , score=-3.896093 -  45.5s\n",
      "[CV]  ................................................................\n"
     ]
    },
    {
     "name": "stderr",
     "output_type": "stream",
     "text": [
      "[Parallel(n_jobs=1)]: Done   1 tasks       | elapsed:   45.5s\n"
     ]
    },
    {
     "name": "stdout",
     "output_type": "stream",
     "text": [
      "[CV] ...................................... , score=-3.853874 -  43.1s\n",
      "[CV]  ................................................................\n",
      "[CV] ...................................... , score=-3.784981 -  42.8s\n",
      "[CV]  ................................................................\n",
      "[CV] ...................................... , score=-3.659586 -  43.5s\n",
      "('best params:', {})\n"
     ]
    },
    {
     "name": "stderr",
     "output_type": "stream",
     "text": [
      "[Parallel(n_jobs=1)]: Done   4 tasks       | elapsed:  2.9min\n",
      "[Parallel(n_jobs=1)]: Done   4 out of   4 | elapsed:  2.9min finished\n"
     ]
    }
   ],
   "source": [
    "# random forest with one-hot-encoding\n",
    "model = grid_search.GridSearchCV(RandomForestClassifier(n_estimators=100), \n",
    "                                 param_grid={}, \n",
    "                                 scoring='log_loss',\n",
    "                                 n_jobs=1,\n",
    "                                 iid=True,\n",
    "                                 cv=4, \n",
    "                                 refit=False,\n",
    "                                 verbose=10)   \n",
    "model.fit(full_ohe[:train_size], Y)\n",
    "print (\"best params:\", model.best_params_)"
   ]
  },
  {
   "cell_type": "code",
   "execution_count": 7,
   "metadata": {
    "collapsed": false
   },
   "outputs": [
    {
     "name": "stdout",
     "output_type": "stream",
     "text": [
      "Fitting 4 folds for each of 1 candidates, totalling 4 fits\n",
      "[CV]  ................................................................\n",
      "[CV] ...................................... , score=-2.420795 -   0.1s\n",
      "[CV]  ................................................................\n",
      "[CV] ...................................... , score=-2.421838 -   0.1s\n",
      "[CV]  ................................................................\n"
     ]
    },
    {
     "name": "stderr",
     "output_type": "stream",
     "text": [
      "[Parallel(n_jobs=1)]: Done   1 tasks       | elapsed:    0.1s\n"
     ]
    },
    {
     "name": "stdout",
     "output_type": "stream",
     "text": [
      "[CV] ...................................... , score=-2.426279 -   0.1s\n",
      "[CV]  ................................................................\n",
      "[CV] ...................................... , score=-2.426900 -   0.1s\n",
      "('best params:', {})\n"
     ]
    },
    {
     "name": "stderr",
     "output_type": "stream",
     "text": [
      "[Parallel(n_jobs=1)]: Done   4 tasks       | elapsed:    0.3s\n",
      "[Parallel(n_jobs=1)]: Done   4 out of   4 | elapsed:    0.3s finished\n"
     ]
    }
   ],
   "source": [
    "# naive bayes with label encoding\n",
    "model = grid_search.GridSearchCV(GaussianNB(), \n",
    "                                 param_grid={}, \n",
    "                                 scoring='log_loss',\n",
    "                                 n_jobs=1,\n",
    "                                 iid=True,\n",
    "                                 cv=4, \n",
    "                                 refit=False,\n",
    "                                 verbose=10)   \n",
    "model.fit(full_le[:train_size], Y)\n",
    "print (\"best params:\", model.best_params_)"
   ]
  },
  {
   "cell_type": "code",
   "execution_count": null,
   "metadata": {
    "collapsed": true
   },
   "outputs": [],
   "source": []
  }
 ],
 "metadata": {
  "kernelspec": {
   "display_name": "Python 2",
   "language": "python",
   "name": "python2"
  },
  "language_info": {
   "codemirror_mode": {
    "name": "ipython",
    "version": 2
   },
   "file_extension": ".py",
   "mimetype": "text/x-python",
   "name": "python",
   "nbconvert_exporter": "python",
   "pygments_lexer": "ipython2",
   "version": "2.7.11"
  }
 },
 "nbformat": 4,
 "nbformat_minor": 0
}
